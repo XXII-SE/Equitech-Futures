{
  "nbformat": 4,
  "nbformat_minor": 0,
  "metadata": {
    "colab": {
      "name": "1 - Variables and Data Types.ipynb",
      "provenance": [],
      "collapsed_sections": [],
      "include_colab_link": true
    },
    "kernelspec": {
      "name": "python3",
      "display_name": "Python 3"
    },
    "language_info": {
      "name": "python"
    }
  },
  "cells": [
    {
      "cell_type": "markdown",
      "metadata": {
        "id": "view-in-github",
        "colab_type": "text"
      },
      "source": [
        "<a href=\"https://colab.research.google.com/github/XXII-SE/Equitech-Futures/blob/main/1_Variables_and_Data_Types.ipynb\" target=\"_parent\"><img src=\"https://colab.research.google.com/assets/colab-badge.svg\" alt=\"Open In Colab\"/></a>"
      ]
    },
    {
      "cell_type": "markdown",
      "metadata": {
        "id": "Xzq-i9RmbDeZ"
      },
      "source": [
        "# Variables & Data Types\n",
        "\n",
        "### In this notebook, we'll be looking at how variables and data types work in Python."
      ]
    },
    {
      "cell_type": "markdown",
      "metadata": {
        "id": "PbZI_xt8bm-0"
      },
      "source": [
        "You might be familiar with the term \"variable\" from social research, where it typically refers to attributes that can take specific values, like a participant's age, which can be anywhere from 0 to 123 (the current world record) or a participant's mother tongue, which can be any of the roughly 6500 languages spoken in the world today.\n",
        "\n",
        "You might also recall the term variable from math, where it refers to a symbol that represents a quantity in a mathematical expression. For example, in the equation\n",
        "$\n",
        "\\begin{align}\n",
        "x + 2 = 7\n",
        "\\end{align}\n",
        "$\n",
        ", **x** is the variable.\n",
        "\n",
        "For our purposes, a variable is a symbolic name associated with a value and whose associated value may be changed. That may sound fancy, but I promise that it's really not. Let's consider an example, to see how this works."
      ]
    },
    {
      "cell_type": "markdown",
      "metadata": {
        "id": "Xt5fD0bp2LPq"
      },
      "source": [
        "Suppose you don't keep your money in the bank, and you keep it safely stowed away at home. When you get paid, you add the money to your stache, and when you need money for your expenses, you take money out of your stache. \n",
        "\n",
        "Now imagine you wanted to record the money you have in your stache. So you count all your money and realize you have $500. You can record your current balance in python via the following code:"
      ]
    },
    {
      "cell_type": "code",
      "metadata": {
        "id": "RwmCyb_Gb45R"
      },
      "source": [
        "balance = 500\n",
        "print(balance)"
      ],
      "execution_count": null,
      "outputs": []
    },
    {
      "cell_type": "markdown",
      "metadata": {
        "id": "8inyRUh_5ec-"
      },
      "source": [
        "In the first line, we define a new variable `balance` and assign a value of 500 to the variable `balance`. In the second line we told Python to print `balance` and the output was 500, i.e. the value we assigned to `balance`.\n",
        "\n",
        "So variables allow us to store information that can be later referenced or manipulated in our program."
      ]
    },
    {
      "cell_type": "markdown",
      "metadata": {
        "id": "5F6ItoW38nLl"
      },
      "source": [
        "Now let's say you just got paid $250, for winning a coding competition, and you promptly add that to your stache. To update your balance in the program, we would do the following:"
      ]
    },
    {
      "cell_type": "code",
      "metadata": {
        "id": "ljiGF2TR9LS2"
      },
      "source": [
        "balance = balance + 250\n",
        "print(balance)"
      ],
      "execution_count": null,
      "outputs": []
    },
    {
      "cell_type": "markdown",
      "metadata": {
        "id": "fQGDwc9P9RO-"
      },
      "source": [
        "That first line might look very strange to you. If you think of this line as an algebraic expression\n",
        "\n",
        "$\n",
        "\\begin{align}\n",
        "x = x + 250\n",
        "\\end{align}\n",
        "$\n",
        "\n",
        "it would be nonsensical! There is no solution! So what's going on?"
      ]
    },
    {
      "cell_type": "markdown",
      "metadata": {
        "id": "1n8L5Pe190M-"
      },
      "source": [
        "In Python, the = sign is used for **assignment**, not to represent equality. So we're not saying that `balance` is equal to `balance` + 250. \n",
        "\n",
        "\n",
        "We're saying take the value of `balance`, add 250, and re-assign that to the variable `balance`. The self-referential aspect of this might be confusing, but it really shouldn't be, because it's just like real life: once you've added the money, your old balance is replaced by a new balance which is just your old balance + the amount you added. "
      ]
    },
    {
      "cell_type": "markdown",
      "metadata": {
        "id": "sqL-eVk-_xZ1"
      },
      "source": [
        "Run the previous block of code a few more times successively, and you'll see that it keeps printing a new value each time, i.e. 250 more than the previous run because we keep adding 250 to the existing value of `balance`. If we want to start with our initial balance and add our prize earnings just once, run the first block of code at the top of the notebook again, and run the previous block of code just once. "
      ]
    },
    {
      "cell_type": "markdown",
      "metadata": {
        "id": "1Y4AEkb9A65N"
      },
      "source": [
        "Now let's say you lend your friend Ben $150. You take that money out of your stache, and hand it to Ben. To update your balance in the program, we would do exactly the same as what we did before, just subtracting 150 instead of adding 250."
      ]
    },
    {
      "cell_type": "code",
      "metadata": {
        "id": "pnIT-PWqA0_T"
      },
      "source": [
        "# Try implementing this transaction\n",
        "\n"
      ],
      "execution_count": null,
      "outputs": []
    },
    {
      "cell_type": "markdown",
      "metadata": {
        "id": "qAjqOtoC_IcO"
      },
      "source": [
        "When Python assigns a variable to a value, it gives that variable a *type*, based on the value the variable is assigned. We can check the type of a variable by invoking the `type()` function as follows:"
      ]
    },
    {
      "cell_type": "code",
      "metadata": {
        "id": "tN9KxtSG_W8E"
      },
      "source": [
        "type(balance)"
      ],
      "execution_count": null,
      "outputs": []
    },
    {
      "cell_type": "markdown",
      "metadata": {
        "id": "nCL3A71E_ceK"
      },
      "source": [
        "Python tells us that `balance` is an `int`, which is just short for **integer**: any number, positive, negative, or zero, that doesn't have a fractional part, e.g. 7, 135, -9, etc."
      ]
    },
    {
      "cell_type": "markdown",
      "metadata": {
        "id": "7k637ijg8wCR"
      },
      "source": [
        "Now say you go shopping for some groceries, which cost $27.64. You take money out of your stache, hand it to the cashier and get change back, which you promptly put back in your stache. Just like the previous example, implement this transaction and print the balance"
      ]
    },
    {
      "cell_type": "code",
      "metadata": {
        "id": "BACjJpj0-qOn"
      },
      "source": [
        "# Try implementing this transaction\n",
        "\n"
      ],
      "execution_count": null,
      "outputs": []
    },
    {
      "cell_type": "markdown",
      "metadata": {
        "id": "FLnmaKrH-pMy"
      },
      "source": [
        "But clearly this is no longer an `int`, because we now have a decimal portion to our number. So what is it then?"
      ]
    },
    {
      "cell_type": "code",
      "metadata": {
        "id": "f6-pmQUmAfXS"
      },
      "source": [
        "# Try running the type function on the balance variable\n",
        "\n"
      ],
      "execution_count": null,
      "outputs": []
    },
    {
      "cell_type": "markdown",
      "metadata": {
        "id": "z7TJlrOWAenw"
      },
      "source": [
        "Python tells us that `balance` is now a `float`, which is short for a **floating point number** . Don't worry, that's just computer-science talk for a number with a decimal point in it (when decimals are stored in memory, unlike integers, the computer needs to additionally keep track of where in the number the decimal occurs -- i.e. the difference between 38.6902 vs 3869.02)"
      ]
    },
    {
      "cell_type": "markdown",
      "metadata": {
        "id": "hNEaySRHEEA_"
      },
      "source": [
        "Are variables used just for numbers? Not at all! Let's look at a totally different example."
      ]
    },
    {
      "cell_type": "markdown",
      "metadata": {
        "id": "tK3Gi02hEUt5"
      },
      "source": [
        "Say you're a teacher and you have a new student in your class, and you want to remember her name, but you're really bad with names. She tells you her name is Emily, so you run to your computer and enlist Python's help so that you won't forget."
      ]
    },
    {
      "cell_type": "code",
      "metadata": {
        "id": "3EuoETIiJZnC"
      },
      "source": [
        "new_student = \"Emily\"\n",
        "print(new_student)"
      ],
      "execution_count": null,
      "outputs": []
    },
    {
      "cell_type": "markdown",
      "metadata": {
        "id": "P65iKtxMKGIu"
      },
      "source": [
        "We see the double quotes again, which we used in the last notebook when printing our \"Hello World\" message. The double quotes signify a new data type ... let's ask Python what it is."
      ]
    },
    {
      "cell_type": "code",
      "metadata": {
        "id": "MnlqWk48KTQb"
      },
      "source": [
        "# Try running the type function on the new_student variable\n"
      ],
      "execution_count": null,
      "outputs": []
    },
    {
      "cell_type": "markdown",
      "metadata": {
        "id": "ZlbcOucfKaGC"
      },
      "source": [
        "Python tells us that `new_student` is a `str`, which is just short for string: strings refer to a sequence of characters, or more simply any text. \n",
        "\n",
        "In Python you can use single quotes `''` instead to also signify strings, so don't be surprised if you see this elsewhere or in future notebooks. If you're curious about this, check out this discussion on Stack Overflow: https://stackoverflow.com/questions/56011/single-quotes-vs-double-quotes-in-python."
      ]
    },
    {
      "cell_type": "markdown",
      "metadata": {
        "id": "4IC_yNRvK8ni"
      },
      "source": [
        "As a teacher, you're meant to really know both the first and last name of your students. So you ask Emily for her last name as well, and enlist Python once again to make sure you remember her full name."
      ]
    },
    {
      "cell_type": "code",
      "metadata": {
        "id": "EeTWJv0uLMpH"
      },
      "source": [
        "first_name = \"Emily\"\n",
        "last_name = \"Chen\"\n",
        "\n",
        "new_student = first_name + \" \" + last_name\n",
        "\n",
        "print(new_student)"
      ],
      "execution_count": null,
      "outputs": []
    },
    {
      "cell_type": "markdown",
      "metadata": {
        "id": "qT4WelnBLV6u"
      },
      "source": [
        "Notice two things. First, the + operator when used on strings, serves to concatenate, or join them together (concatenation is a fancy computer science term for joining which you will encounter throughout your programming career). Second, we were able to combine the values of `first_name` and `last_name` (with a space `\" \"` in the middle) to yield a new string, which we assigned to `new_student`."
      ]
    },
    {
      "cell_type": "markdown",
      "metadata": {
        "id": "ovQOnIvCNVCe"
      },
      "source": [
        "Now here's where data types can get important. When we read data in from a csv file or an excel sheet, often Python can figure out whether what it's reading should be intepreted as an `int`, `float`, or `str`. But sometimes there's not enough clues for Python to figure this out, and for example, Python might read the number 8 as a string \"8\". What would happen if you try to do math with that?"
      ]
    },
    {
      "cell_type": "code",
      "metadata": {
        "id": "jUFIlA9nL8kG"
      },
      "source": [
        "# Assign values 3 and \"8\" to variables a and b\n",
        "\n",
        "\n",
        "# Add these two variables\n",
        "\n"
      ],
      "execution_count": null,
      "outputs": []
    },
    {
      "cell_type": "markdown",
      "metadata": {
        "id": "VuiodvmiPKum"
      },
      "source": [
        "We get a `TypeError` error, because it's nonsensical to \"add\" a string of text to a number.\n",
        "\n",
        "But here just as a human being can conceptually recast the text \"8\" into the number 8, so can Python. Here's how:"
      ]
    },
    {
      "cell_type": "code",
      "metadata": {
        "id": "32sGwt4bPZ0A"
      },
      "source": [
        "a + int(b)"
      ],
      "execution_count": null,
      "outputs": []
    },
    {
      "cell_type": "markdown",
      "metadata": {
        "id": "_gqy6dl9PlzF"
      },
      "source": [
        "The `int()` function reinterpreted the string \"8\" as the integer 8. This type of reinterpretation is referred to as *casting*, and functions that do this are called constructor functions. What if we instead had a string like \"8.72\"?"
      ]
    },
    {
      "cell_type": "code",
      "metadata": {
        "id": "VevdgD9eP-Bt",
        "outputId": "b30d231d-574e-4182-889d-25d47d917b8a",
        "colab": {
          "base_uri": "https://localhost:8080/"
        }
      },
      "source": [
        "a = 3\n",
        "b = \"8.72\"\n",
        "\n",
        "a + float(b)"
      ],
      "execution_count": null,
      "outputs": [
        {
          "output_type": "execute_result",
          "data": {
            "text/plain": [
              "11.72"
            ]
          },
          "metadata": {},
          "execution_count": 3
        }
      ]
    },
    {
      "cell_type": "markdown",
      "metadata": {
        "id": "vVXB15ynQGJ6"
      },
      "source": [
        "We just use the constructor function `float()` instead to cast the string \"8.72\" into the float 8.72. But neither `int()` nor `float()` will work on just any string you give it. Just as a human wouldn't know how to convert the string \"elephant\" into a number, Python will be confused too:\n"
      ]
    },
    {
      "cell_type": "code",
      "metadata": {
        "id": "WplJz6NgQWoC",
        "colab": {
          "base_uri": "https://localhost:8080/",
          "height": 215
        },
        "outputId": "81ba89b5-aa50-4b92-ac5f-a11f6b4a3ae2"
      },
      "source": [
        "# Try converting \"elephant\" to int!\n",
        "\n",
        "print(int(\"elephant\"))\n",
        "\n"
      ],
      "execution_count": null,
      "outputs": [
        {
          "output_type": "error",
          "ename": "ValueError",
          "evalue": "ignored",
          "traceback": [
            "\u001b[0;31m---------------------------------------------------------------------------\u001b[0m",
            "\u001b[0;31mValueError\u001b[0m                                Traceback (most recent call last)",
            "\u001b[0;32m<ipython-input-2-8413f12d5770>\u001b[0m in \u001b[0;36m<module>\u001b[0;34m()\u001b[0m\n\u001b[1;32m      1\u001b[0m \u001b[0;31m# Try converting \"elephant\" to int!\u001b[0m\u001b[0;34m\u001b[0m\u001b[0;34m\u001b[0m\u001b[0;34m\u001b[0m\u001b[0m\n\u001b[1;32m      2\u001b[0m \u001b[0;34m\u001b[0m\u001b[0m\n\u001b[0;32m----> 3\u001b[0;31m \u001b[0mprint\u001b[0m\u001b[0;34m(\u001b[0m\u001b[0mint\u001b[0m\u001b[0;34m(\u001b[0m\u001b[0;34m\"elephant\"\u001b[0m\u001b[0;34m)\u001b[0m\u001b[0;34m)\u001b[0m\u001b[0;34m\u001b[0m\u001b[0;34m\u001b[0m\u001b[0m\n\u001b[0m\u001b[1;32m      4\u001b[0m \u001b[0;34m\u001b[0m\u001b[0m\n",
            "\u001b[0;31mValueError\u001b[0m: invalid literal for int() with base 10: 'elephant'"
          ]
        }
      ]
    },
    {
      "cell_type": "markdown",
      "metadata": {
        "id": "9oSQc6fYQlRU"
      },
      "source": [
        "But sometimes we may have numbers that we would rather have Python interpret as a string, say a serial number or pass code. Suppose you wanted to add a few digits to the end of a pass code to make it stronger."
      ]
    },
    {
      "cell_type": "code",
      "metadata": {
        "id": "r1iEjvUbQ1TG",
        "colab": {
          "base_uri": "https://localhost:8080/"
        },
        "outputId": "4c8f06f7-5ba2-4ae9-a1e8-710ef3194712"
      },
      "source": [
        "passcode = str(6609052530)\n",
        "addendum = str(3187)\n",
        "\n",
        "passcode = passcode + addendum\n",
        "\n",
        "print(passcode)"
      ],
      "execution_count": null,
      "outputs": [
        {
          "output_type": "stream",
          "name": "stdout",
          "text": [
            "66090525303187\n"
          ]
        }
      ]
    },
    {
      "cell_type": "markdown",
      "metadata": {
        "id": "djPKiv7ARb3-"
      },
      "source": [
        "Since Python saved both `passcode` and `addendum` as numbers, it interpreted the + operator as addition, instead of the concatenation of strings we were hoping for. To fix this, we can simply convert `passcode` & `addendum` to string and concatenate them together. We can do this by using the the constructor function `str()` to cast `passcode` and `addendum`, which were numbers, into strings."
      ]
    },
    {
      "cell_type": "code",
      "metadata": {
        "id": "9QkvF-x3SzQc"
      },
      "source": [
        "passcode = 6609052530\n",
        "addendum = 3187\n",
        "\n",
        "# Try converting here!\n",
        "\n",
        "\n",
        "print(passcode)"
      ],
      "execution_count": null,
      "outputs": []
    },
    {
      "cell_type": "markdown",
      "metadata": {
        "id": "9EJWZ-sITNBG"
      },
      "source": [
        "Let's end by briefly going over variable names. Variables can be named anything, but with some constraints, namely that variabe names\n",
        "\n",
        "*   can contain letters and numbers as well as underscores\n",
        "*   cannot contain spaces\n",
        "*   cannot start with a number, and typically start with a lowercase letter\n",
        "*   are case sensitive\n",
        "\n",
        "You should always give your variables a descriptive name. For example, when our variable corresponded to the net amount of money we had, we called it *balance*. Where a more complicated name was required to be descriptive, Python recommends we use underscores to split the words, like in `first_name`. \n",
        "\n",
        "You don't however want very long variable names, that makes your code unwieldy to read and difficult to make sense of."
      ]
    },
    {
      "cell_type": "code",
      "source": [
        "## Considering the above points, explore what Python allows/disallows as a variable name.\n",
        "# Try here\n",
        "\n",
        "\n",
        "\n",
        "## Additionally, try to write clear & concise VARIABLE NAMES for the following\n",
        "\n",
        "# 1 - A variable that store the conversion rate of US dollars to British pounds.\n",
        "\n",
        "# 2 - Two variables for storing the speed of a vehicle in miles/hr & km/hr.\n",
        "\n",
        "# 3 - Two separate variables that store speed of light (299792458) as an integer and as a string.\n",
        "\n",
        "# 4 - Six variables that store X, Y co-ordinates with three different units each: Pixels, Inches and Points.\n",
        "\n"
      ],
      "metadata": {
        "id": "U_y3wPNk3N7c"
      },
      "execution_count": null,
      "outputs": []
    },
    {
      "cell_type": "markdown",
      "metadata": {
        "id": "ALmywBv-8Wrd"
      },
      "source": [
        "# Checkpoint"
      ]
    },
    {
      "cell_type": "markdown",
      "metadata": {
        "id": "EpPMvQHF8gX4"
      },
      "source": [
        "### #1\n",
        "\n",
        "Let's revisit the example of our personal home banking system. Let's say you start with a balance of $500, and you have the following transactions:\n",
        "\n",
        "  1.   Your bicycle has a punctured wheel and a broken chain, so you need to spend $60 on a new chain and wheel. \n",
        "\n",
        "  2.   Your friend Ben returns $105 dollars, and says he'll pay the rest back later.\n",
        "\n",
        "  3.   You buy a pair of jeans for $8.95.\n",
        "\n",
        "Define three new variables, *bike_repair*, *ben_return*, *jeans* with the appropriate values based on the scenario described above, and update your balance successively, generate the following output along the way:\n",
        "\n",
        "```\n",
        "My initial balance:\n",
        "500\n",
        "My balance after bike repair:\n",
        "440\n",
        "My balance after Ben returned some of the money:\n",
        "545\n",
        "My balance after purchasing a pair of jeans:\n",
        "536.05\n",
        "```"
      ]
    },
    {
      "cell_type": "code",
      "source": [
        "# Your answer here\n"
      ],
      "metadata": {
        "id": "kQruefAC3gkP"
      },
      "execution_count": null,
      "outputs": []
    },
    {
      "cell_type": "markdown",
      "metadata": {
        "id": "SHiuUxAwZoy_"
      },
      "source": [
        "### #2\n",
        "\n",
        "This is a quick and easy one. Let's revisit the example in which you're a teacher using Python to remember your student's name. Suppose you want to add your new student's name to the roster, but all names in the roster are stored in the format \n",
        "\n",
        "```\n",
        "    last name, first name\n",
        "\n",
        "    e.g. Smith, John\n",
        "```\n",
        "\n",
        "Using the variables *first_name* and *last_name*, re-assign the variable *new_student* to a string with your new student's name in the the roster format described above."
      ]
    },
    {
      "cell_type": "code",
      "source": [
        "# Your answer here\n"
      ],
      "metadata": {
        "id": "FAD47TRi3gHr"
      },
      "execution_count": null,
      "outputs": []
    },
    {
      "cell_type": "markdown",
      "metadata": {
        "id": "ZIx4cA2pbFgV"
      },
      "source": [
        "### #3\n",
        "\n",
        "Let's practice data type casting using constructor functions. Start by assigning to variables named *a*, *b*, and *c* the following values, respectively: 67, \"34\", and 9.25.\n",
        "\n",
        "  Using just the variables *a*, *b*, and *c* along with the + operator, constructor functions, and the print function, generate the following output(s):\n",
        "\n",
        "```\n",
        "101\n",
        "3467\n",
        "9.2534\n",
        "679.25\n",
        "110.25\n",
        "```"
      ]
    },
    {
      "cell_type": "code",
      "source": [
        "# Your answer here\n",
        "\n",
        "print()\n"
      ],
      "metadata": {
        "id": "jBf7vtyJ3hON"
      },
      "execution_count": null,
      "outputs": []
    }
  ]
}