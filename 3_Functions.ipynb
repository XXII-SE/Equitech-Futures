{
  "nbformat": 4,
  "nbformat_minor": 0,
  "metadata": {
    "colab": {
      "name": "3 Functions.ipynb",
      "provenance": [],
      "collapsed_sections": [
        "B8b65QjhruDN"
      ],
      "include_colab_link": true
    },
    "kernelspec": {
      "name": "python3",
      "display_name": "Python 3"
    },
    "language_info": {
      "name": "python"
    }
  },
  "cells": [
    {
      "cell_type": "markdown",
      "metadata": {
        "id": "view-in-github",
        "colab_type": "text"
      },
      "source": [
        "<a href=\"https://colab.research.google.com/github/XXII-SE/Equitech-Futures/blob/main/3_Functions.ipynb\" target=\"_parent\"><img src=\"https://colab.research.google.com/assets/colab-badge.svg\" alt=\"Open In Colab\"/></a>"
      ]
    },
    {
      "cell_type": "markdown",
      "metadata": {
        "id": "pbalBP-3Ak4w"
      },
      "source": [
        "#**In this notebook, we'll be looking at how functions work in Python, and how we can even write our own functions!**"
      ]
    },
    {
      "cell_type": "markdown",
      "metadata": {
        "id": "BxLQv4xaskTO"
      },
      "source": [
        "We've actually already ran into quite a few functions in our previous notebooks. For example, we had `print`, which displays whatever input is *passed* to it. "
      ]
    },
    {
      "cell_type": "code",
      "metadata": {
        "id": "gNZFqKNOtFCz"
      },
      "source": [
        "print(\"The print function prints whatever is enclosed by the parantheses.\")"
      ],
      "execution_count": null,
      "outputs": []
    },
    {
      "cell_type": "markdown",
      "metadata": {
        "id": "qoGgMdmttO6i"
      },
      "source": [
        "We had `type` which returns the data type of whatever you passed to it as input. "
      ]
    },
    {
      "cell_type": "code",
      "metadata": {
        "id": "AdVm0RoYuELJ"
      },
      "source": [
        "a = 3\n",
        "type(a)"
      ],
      "execution_count": null,
      "outputs": []
    },
    {
      "cell_type": "markdown",
      "metadata": {
        "id": "ttXVYd-RuWBo"
      },
      "source": [
        "We had `help` which returns the documentation for any functions, libraries, keywords, modules, or classes that you pass to it as input (don't worry if you don't know what all of these are ... we'll get there)."
      ]
    },
    {
      "cell_type": "code",
      "metadata": {
        "id": "z9EvmVqBvZ21"
      },
      "source": [
        "help(print)"
      ],
      "execution_count": null,
      "outputs": []
    },
    {
      "cell_type": "markdown",
      "metadata": {
        "id": "AZdber09wmCz"
      },
      "source": [
        "Let's revisit this documentation that `help` returned for the function `print` once we learn a bit more about functions."
      ]
    },
    {
      "cell_type": "markdown",
      "metadata": {
        "id": "nFbY-Bc4yCc4"
      },
      "source": [
        "So what is a function really? A function is essentially a nickname for a block of code: everytime you *call* a function like `print`, Python actually executes lines of code that you don't get to see. \n",
        "\n",
        "This might be a bit odd, but it's not that different from the functions you might recall from high school math. \n",
        "\n",
        "If we had a function *f*(*x*) = x^2 + 2x - 3, and you were asked to compute *f*(5), you would go back to the definition of the function, plug in 5, do the calculation, and write down your answer (32). Let's look at how we would define a function that does the same thing, in Python."
      ]
    },
    {
      "cell_type": "code",
      "metadata": {
        "id": "QYtkpVWm9ePc"
      },
      "source": [
        "def f(x):\n",
        "  return x**2 + 2*x - 3\n",
        "\n",
        "f(5)"
      ],
      "execution_count": null,
      "outputs": []
    },
    {
      "cell_type": "markdown",
      "metadata": {
        "id": "bN2OpxCC-EWH"
      },
      "source": [
        "Let's break this down, starting with that first line. \n",
        "\n",
        "1. The keyword `def` stands for define, and it's telling Python that we're about to define a function. \n",
        "\n",
        "2. Then we have a space and then `f`, which is what we're going to call our function. We could've called it anything else (the conventions for variable names apply here as well). \n",
        "\n",
        "3. Then we have our left paranthesis `(` followed by `x`, which is the variable name we will use to refer to whatever is passed as input while executing the lines of code in the body of the function. Python refers to a function's input data as **arguments**, and you can have as many as you want, just separated by commas `,`. \n",
        "\n",
        "4. We then have our right paranthesis `)` to indicate that we are done listing out all the arguments that the function needs, and we end this line with a `:`, to indicate to Python that what follows will be the lines of code that make up the body of the function. \n",
        "\n",
        "5. A function can have as many lines of code within as you like, but they ***must be indented*** with respect to your initial `def` statement, so that Python knows that these lines of code belong to the function you're defining.\n",
        "\n",
        "In this example, we only have one line of code, which starts with the keyword `return`, meaning the function will give you back some value that's usually dependent on the value(s) you passed as arguments. What is returned is whatever follows the word `return`, which in this case is `x**2 + 2*x - 3` for some given `x`."
      ]
    },
    {
      "cell_type": "markdown",
      "metadata": {
        "id": "jH2dAKj0GoED"
      },
      "source": [
        "Try running the function `f` for a few values other than 5:"
      ]
    },
    {
      "cell_type": "code",
      "metadata": {
        "id": "_mdr6EKVHuK3"
      },
      "source": [
        "### Try here!\n",
        "\n"
      ],
      "execution_count": null,
      "outputs": []
    },
    {
      "cell_type": "markdown",
      "metadata": {
        "id": "SLyJhoh7H83d"
      },
      "source": [
        "As you would expect, what the function returns depends on its argument!"
      ]
    },
    {
      "cell_type": "markdown",
      "metadata": {
        "id": "a_snVjJ4IIka"
      },
      "source": [
        "Functions like `print` work much the same way as our function `f`. Python goes back to the original block of code that `print` refers to, plugs in the argument(s) that you passed to `print`, and then executes that code. "
      ]
    },
    {
      "cell_type": "markdown",
      "metadata": {
        "id": "QJvZLEr6JBo1"
      },
      "source": [
        "Let's take a look at another function, this time one that takes two arguments:"
      ]
    },
    {
      "cell_type": "code",
      "metadata": {
        "id": "VhjIfPWmJIEG"
      },
      "source": [
        "def friend(person1, person2):\n",
        "  print(person1 + \" is \" + person2 + \"'s friend!\")\n",
        "\n",
        "friend('Aria', 'Bill')"
      ],
      "execution_count": null,
      "outputs": []
    },
    {
      "cell_type": "markdown",
      "metadata": {
        "id": "dGNbZlp1JiMN"
      },
      "source": [
        "OK so that's straight forward enough. `friend` takes two inputs and prints a statement that uses both. Now what happens if we switch the order of our arguments?"
      ]
    },
    {
      "cell_type": "code",
      "metadata": {
        "id": "42Th770hJz0V"
      },
      "source": [
        "### Try here!\n",
        "\n",
        "\n"
      ],
      "execution_count": null,
      "outputs": []
    },
    {
      "cell_type": "markdown",
      "metadata": {
        "id": "UaJfZkauKT4-"
      },
      "source": [
        "The statement changed! The arguments are mapped onto the variables inside the body of the function based on their position, i.e. in what order they are passed to the function."
      ]
    },
    {
      "cell_type": "markdown",
      "metadata": {
        "id": "IITiz2MzJxnA"
      },
      "source": [
        "What happens if you pass too few arguments to a function?"
      ]
    },
    {
      "cell_type": "code",
      "metadata": {
        "id": "RMkRNqs5OEdd"
      },
      "source": [
        "### Try here!\n",
        "\n",
        "\n"
      ],
      "execution_count": null,
      "outputs": []
    },
    {
      "cell_type": "markdown",
      "metadata": {
        "id": "pxui6Qe9OJyc"
      },
      "source": [
        "Python returns a `TypeError`, saying that 1 required positional argument (called `person2`) is missing."
      ]
    },
    {
      "cell_type": "markdown",
      "metadata": {
        "id": "8GDmvpWUOYZS"
      },
      "source": [
        "What about if you pass too many arguments?"
      ]
    },
    {
      "cell_type": "code",
      "metadata": {
        "id": "KU_z-NNBOf4L"
      },
      "source": [
        "### Try here!\n",
        "\n",
        "\n",
        "\n"
      ],
      "execution_count": null,
      "outputs": []
    },
    {
      "cell_type": "markdown",
      "metadata": {
        "id": "blIJk1LEOnqz"
      },
      "source": [
        "Python returns a `TypeError`, saying that `friend` takes only 2 positional arguments, but 3 were given. Whoops! "
      ]
    },
    {
      "cell_type": "markdown",
      "metadata": {
        "id": "VPCqQRJhOyu1"
      },
      "source": [
        "Now there is a different way for passing arguments to a function. Let's take a look at an example:"
      ]
    },
    {
      "cell_type": "code",
      "metadata": {
        "id": "3oMFInDPOmO3"
      },
      "source": [
        "friend(person2 = 'Bill', person1 = 'Aria')"
      ],
      "execution_count": null,
      "outputs": []
    },
    {
      "cell_type": "markdown",
      "metadata": {
        "id": "zVI9C6SCQxq9"
      },
      "source": [
        "Instead of using the position to determine which argument is mapped to which variable, we tell Python explicitly by specifying which variables we're assigining. These are called **keyword arguments**. So even though we passed the arguments in the wrong order, the printed statement was unaffected, because Python knew which argument to assign to which variable."
      ]
    },
    {
      "cell_type": "markdown",
      "metadata": {
        "id": "Hy7KKAnkRAsp"
      },
      "source": [
        "Now let's go back and tweak the code for our function `friend`:"
      ]
    },
    {
      "cell_type": "code",
      "metadata": {
        "id": "5Mfq1YQ-RWla"
      },
      "source": [
        "def friend(person1, person2 = 'Chukwu'):\n",
        "  print(person1 + \" is \" + person2 + \"'s friend!\")\n",
        "\n",
        "friend('Aria')"
      ],
      "execution_count": null,
      "outputs": []
    },
    {
      "cell_type": "markdown",
      "metadata": {
        "id": "x9XBW_kvRdkB"
      },
      "source": [
        "Interesting! Python didn't spit out an error, even though we passed only one argument, while the function takes two. What if we passed two arguments?"
      ]
    },
    {
      "cell_type": "code",
      "metadata": {
        "id": "EH5ZjD2cR5Bq"
      },
      "source": [
        "### Try here!\n",
        "\n",
        "\n",
        "\n"
      ],
      "execution_count": null,
      "outputs": []
    },
    {
      "cell_type": "markdown",
      "metadata": {
        "id": "PSN5zVdaR72g"
      },
      "source": [
        "We get what we got originally! So what's going on?\n",
        "\n",
        "When we defined the function, we gave the variable `person2` a default value, i.e. the value it will take if we don't specify anything. But if we do pass an argument that maps onto `person2`, then this overrides the default value. Neat, right?"
      ]
    },
    {
      "cell_type": "markdown",
      "metadata": {
        "id": "ci9XnfiLT5ZA"
      },
      "source": [
        "OK so now let's revisit the `print` function, and what we learned about it, based on the documentation we pulled up using `help`."
      ]
    },
    {
      "cell_type": "code",
      "metadata": {
        "id": "7cyiYZhuAiXF",
        "colab": {
          "base_uri": "https://localhost:8080/"
        },
        "outputId": "bc087333-c88a-47b4-9360-29ccb8ef035f"
      },
      "source": [
        "help(print)"
      ],
      "execution_count": null,
      "outputs": [
        {
          "output_type": "stream",
          "name": "stdout",
          "text": [
            "Help on built-in function print in module builtins:\n",
            "\n",
            "print(...)\n",
            "    print(value, ..., sep=' ', end='\\n', file=sys.stdout, flush=False)\n",
            "    \n",
            "    Prints the values to a stream, or to sys.stdout by default.\n",
            "    Optional keyword arguments:\n",
            "    file:  a file-like object (stream); defaults to the current sys.stdout.\n",
            "    sep:   string inserted between values, default a space.\n",
            "    end:   string appended after the last value, default a newline.\n",
            "    flush: whether to forcibly flush the stream.\n",
            "\n"
          ]
        }
      ]
    },
    {
      "cell_type": "markdown",
      "metadata": {
        "id": "9CdtgvYLU2nH"
      },
      "source": [
        "We now know some of the terminology to make sense of what this means. We know `print` displays data that we give it as input, which is called `value` in the documentation above, but what is the `...`? Try passing several strings as arguments to the `print` function, each separated by a comma."
      ]
    },
    {
      "cell_type": "code",
      "metadata": {
        "id": "_vJbHDd-VJvW"
      },
      "source": [
        "### Try passing several strings as argument to the print function. What happens?\n",
        "\n",
        "\n",
        "\n"
      ],
      "execution_count": null,
      "outputs": []
    },
    {
      "cell_type": "markdown",
      "metadata": {
        "id": "kcqJ1JuvVVDQ"
      },
      "source": [
        "The `...` means that the `print` function takes several positional arguments (in fact an unlimitted number of them), all of which it prints back to back in the order that they were passed to the function."
      ]
    },
    {
      "cell_type": "markdown",
      "metadata": {
        "id": "RlG8J8cKVzWm"
      },
      "source": [
        "Now what happens if I start messing with these optional keyword arguments with a default value? Let's try playing with `sep`, which the documentation says is the string inserted between values, with the default being a space!"
      ]
    },
    {
      "cell_type": "code",
      "metadata": {
        "id": "U083vJexVyyu"
      },
      "source": [
        "### Try messing around with the sep argument. What happens?\n",
        "\n",
        "\n",
        "\n"
      ],
      "execution_count": null,
      "outputs": []
    },
    {
      "cell_type": "markdown",
      "metadata": {
        "id": "VWzgUkZQV_Cn"
      },
      "source": [
        "`print` displayed each of the arguments separated by underscores `_` instead of the spaces `' '`!"
      ]
    },
    {
      "cell_type": "markdown",
      "metadata": {
        "id": "ZX8c6vP4WZDn"
      },
      "source": [
        "This time let's try messing with `end`, which according to the documentation is the string appended after the last value, with the default being a newline."
      ]
    },
    {
      "cell_type": "code",
      "metadata": {
        "id": "jv7SxQDDWsAn"
      },
      "source": [
        "### Try messing around with the end argument. What happens?\n",
        "\n",
        "\n",
        "\n"
      ],
      "execution_count": null,
      "outputs": []
    },
    {
      "cell_type": "markdown",
      "metadata": {
        "id": "rucfOSjLW1aO"
      },
      "source": [
        "OK, so it tacked `--` at the end of the line. But watch what happens when I modify `end` in one `print` statement and then follow that with a second `print` statement:"
      ]
    },
    {
      "cell_type": "code",
      "metadata": {
        "id": "hX-ksMjTXDD9"
      },
      "source": [
        "### Try setting the end argument to '\\t' and then follow that up with a second print command. What happens?\n",
        "\n",
        "\n",
        "\n"
      ],
      "execution_count": null,
      "outputs": []
    },
    {
      "cell_type": "markdown",
      "metadata": {
        "id": "qITFmI10XB8x"
      },
      "source": [
        "The second `print` statement picked up exactly where the first one left off, i.e. not with a newline, but rather with an indent? What just happened?"
      ]
    },
    {
      "cell_type": "markdown",
      "metadata": {
        "id": "hczqzNLVY8kl"
      },
      "source": [
        "If you look at the code block just above, you'll see that we specified the string `'\\t'` for `end`. The backslash `\\` inside a string is used to define called an escape character. There's no way to define a tab/indent within a string, so `\\t` is what we use to indicate a tab. If you want to learn more about how to use escape characters, check out this link: https://www.w3schools.com/python/gloss_python_escape_characters.asp"
      ]
    },
    {
      "cell_type": "markdown",
      "metadata": {
        "id": "8Vl23-nJZ8MN"
      },
      "source": [
        "We will end today by clarifying a few points of potential confusion. \n",
        "\n",
        "**First:** What's the difference when we say the function prints something, versus it returns something? Let's take a look, by comparing two functions that look like they do the same thing."
      ]
    },
    {
      "cell_type": "code",
      "metadata": {
        "id": "ZOcPPpb9cje6"
      },
      "source": [
        "def f1(x):\n",
        "  return x**2 + 2*x - 3\n",
        "\n",
        "f1(5)"
      ],
      "execution_count": null,
      "outputs": []
    },
    {
      "cell_type": "code",
      "metadata": {
        "id": "h9hYBs5Jc72M"
      },
      "source": [
        "def f2(x):\n",
        "  print(x**2 + 2*x - 3)\n",
        "\n",
        "f2(5)"
      ],
      "execution_count": null,
      "outputs": []
    },
    {
      "cell_type": "markdown",
      "metadata": {
        "id": "ZxbPqTAreR4h"
      },
      "source": [
        "Now let's say I want to assign their output to a new variable called `a`."
      ]
    },
    {
      "cell_type": "code",
      "metadata": {
        "id": "lGxTMI5Reg4q"
      },
      "source": [
        "a = f1(5)\n",
        "print(a)"
      ],
      "execution_count": null,
      "outputs": []
    },
    {
      "cell_type": "code",
      "metadata": {
        "id": "zcE3QMLweioZ"
      },
      "source": [
        "a = f2(5)\n",
        "print(a)"
      ],
      "execution_count": null,
      "outputs": []
    },
    {
      "cell_type": "markdown",
      "metadata": {
        "id": "zhJbiDceerfb"
      },
      "source": [
        "So the `print` function displays the output whenever it's called, but doesn't generate an output that can be used by other parts of the program, hence why `a` has a value of `None` instead of `32`. But how come in the example above where we define `f1`, `f1(5)` seemed to print the output? This is quirk of notebooks. Look at these two examples."
      ]
    },
    {
      "cell_type": "code",
      "metadata": {
        "id": "61O91_4bfIeM"
      },
      "source": [
        "f1(5)\n",
        "f2(5)"
      ],
      "execution_count": null,
      "outputs": []
    },
    {
      "cell_type": "code",
      "metadata": {
        "id": "TOKR4uFtfInj"
      },
      "source": [
        "f2(5)\n",
        "f1(5)"
      ],
      "execution_count": null,
      "outputs": []
    },
    {
      "cell_type": "markdown",
      "metadata": {
        "id": "62kDLaOAfHyu"
      },
      "source": [
        "How come `32` printed only once in the first example, but twice in the second one? If the last line in a cell returns a value, that value is automatically printed. This is why `return` and `print` can often look like they behave similarly, when in reality they are very different!"
      ]
    },
    {
      "cell_type": "markdown",
      "metadata": {
        "id": "YTHwdi_2gJdx"
      },
      "source": [
        "**Second:** We can pass variables as arguments to functions, as you will recall from the previous notebook, in which we executed lines of code like `print(balance)`. Let's look at an example of this type of thing, using a function we defined earlier."
      ]
    },
    {
      "cell_type": "code",
      "metadata": {
        "id": "5eAKU7-TivO_"
      },
      "source": [
        "def friend(person1, person2):\n",
        "  print(person1 + \" is \" + person2 + \"'s friend!\")\n",
        "\n",
        "personA = 'Jai'\n",
        "personB = 'Veeru'\n",
        "\n",
        "friend(personA, personB)"
      ],
      "execution_count": null,
      "outputs": []
    },
    {
      "cell_type": "markdown",
      "metadata": {
        "id": "5aydGQcPjPpX"
      },
      "source": [
        "OK, that's straight forward enough. Instead of passing the values 'Jai' and 'Veeru', we passed the variables that refer to those values. Now that the value of `personA` was passed to `person1` in the function `friend` what happens if we try to print just `person1` after calling the function?"
      ]
    },
    {
      "cell_type": "code",
      "metadata": {
        "id": "3-ntwmTykvFA"
      },
      "source": [
        "print(person1)"
      ],
      "execution_count": null,
      "outputs": []
    },
    {
      "cell_type": "markdown",
      "metadata": {
        "id": "PTvNx0QPlDoP"
      },
      "source": [
        "Python throws a 'NameError' and says that `person1` is not defined. What? \n",
        "\n",
        "The variables used to refer to the arguments passed to a function, and any other variables defined within the body of a function are what are called **local variables**, i.e. they are only accessible inside the function itself. Once you've executed the function, it's like they don't exist anymore. `person1` and `person2` inside the function 'friend' are local variables. This is in contrast to **global variables**, like `personA` and `personB`, which is accessible wherever. "
      ]
    },
    {
      "cell_type": "markdown",
      "metadata": {
        "id": "dBCLbIBFmFLp"
      },
      "source": [
        "---\n",
        "**Exercise**\n",
        "\n",
        "What if my global and local variables have the same name? What happens then?"
      ]
    },
    {
      "cell_type": "code",
      "metadata": {
        "id": "cfnLYMbzmNi9"
      },
      "source": [
        "person1 = 'Jai'\n",
        "person2 = 'Veera'"
      ],
      "execution_count": null,
      "outputs": []
    },
    {
      "cell_type": "markdown",
      "metadata": {
        "id": "cak_eUr_mPYi"
      },
      "source": [
        "Try calling `friend` using the global variables above. Swap the order of the arguments ... does it still work? Can you figure out what's going on?\n",
        "\n",
        "---"
      ]
    },
    {
      "cell_type": "markdown",
      "metadata": {
        "id": "2w2Yh-wKmlDk"
      },
      "source": [
        "**Third:** We only covered how to define functions with a fixed number of positional or keyword arguments. But in the example of `print`, we saw that it can take as many positional arguments as you pass to it, and it will print them all! We need to learn a bit more to understand how to define functions that can take an arbitrary number of arguments or keyword arguments, but if you're curious to learn more, check out this link: https://www.w3schools.com/python/python_functions.asp."
      ]
    },
    {
      "cell_type": "markdown",
      "metadata": {
        "id": "B8b65QjhruDN"
      },
      "source": [
        "# ***Checkpoint***\n",
        "\n",
        "1. Write a function that takes three inputs, a name, a colour, and a feeling. If the inputs are say `'Obi'`, `'red'` and `'great'`, the function should print:\n",
        "\n",
        "        Obi's favourite colour is red, and Obi is feeling great.\n",
        "\n",
        "  If none or any of the arguments are not provided, the function should default to your name, your favourite color, and/or how you are feeling! Test your function out to see if it's working as it's supposed to. "
      ]
    },
    {
      "cell_type": "markdown",
      "metadata": {
        "id": "i1DNKu-MulM-"
      },
      "source": [
        " 2. You love to cook and bake, but you find it very frustrating when recipes from the US quote quantities in fluid ounces (fl oz) instead of mililiters (ml), like the rest of the world. \n",
        "\n",
        "  Write a function that takes as its argument a volume in fluid ounces, and returns the equivalent volume in mililiters.\n",
        "\n",
        "    *If you're American*: you love to cook recipes from the rest of the world, but you find mililiters confusing. Write a program that does the conversion the other way.\n",
        "    \n",
        "    **Hint**: Use google to find the conversion!"
      ]
    },
    {
      "cell_type": "markdown",
      "metadata": {
        "id": "kG6TtPlD9f7b"
      },
      "source": [
        "3. [Reference to Colab Sheet 3 on Basic Math] You feel happy that you solved the first problem on your little brother's homework sheet, but you look at the rest of the sheet, and you see there are so many more. Just as you were starting to feel like perhaps you'll be spending all day doing his homework, you realize all the equations to be solved are of the exactly same form:\n",
        "\n",
        "    ![Second order equation.png](data:image/png;base64,iVBORw0KGgoAAAANSUhEUgAAAHgAAAAaCAIAAADzOg/UAAAAAXNSR0IArs4c6QAAAARnQU1BAACxjwv8YQUAAAAJcEhZcwAADsMAAA7DAcdvqGQAAAQ6SURBVGhD7ZdZKHVdGMelDCk3lCiR+kTmzCmJFydDXEiGkAtSps9MyFTGUlxQrriicEWhZCgipUgIrwy5IJki87Dff+dZ+3Te7TvbOZ/z7Xq/9u/q+a+9WsOz1nqeZxtwMpIgO1oiZEdLhN4c/fHxUV9fn5+fr1AompubWasMj94cvbi46OvrC+Pu7s7ExGRzc5PaZQi9Ofr5+XljY4NsV1fXhYUFsmUI/cfos7MzBweHx8dHpmWU6NnR7+/vSUlJ09PTTMvw6NPRb29vWVlZk5OTTOvOxcVFUVGRi4tLW1sba/q/oM8YnZGRMTs7Cxtxo7u7m9p15fT01MzMbGlpiek/io6OjpCQkLCwsLS0tJubG9aqRG+ObmhoMDc3/0uJvb19WVkZ+6AjBwcHpqamODam/xxaW1tRd1Fyqq2t9fPzo3biHxzd29sbERGRnp4eHBzs7+/PWnnGx8fxtAMDAxEoIJuammxsbHS6gH19fSLF3+joaFBQECpxnFZAQAAuOPvAo9MCxOcCXV1d0dHRdnZ233xDDw8PlpaWg4ODJHGdjYyMpqamSAKho3EUsbGxT09PsLGZ4uJialdnZ2fH2Nh4ZWUFAxUWFtbU1BwdHbFvWpCTkzM3N8fEJzCaj4/P+vr6/f29s7NzaWkp+6CG9gsQn6ukpAS3Cr9aUVFRIyMjrPVfgcUYGBjgOTLNcR4eHpWVlUwIHH14eIj4iPqMpKenp6bpk5OT6+rqsA2mdUF887hfAwMDZOOYIyMjyRag5QJE5sJNd3NzY+ITLy8vPzRTUFDA+vHAUXD07e0t0xyHSI1FMiFwdGNjY1xcHNmvr6+4Nfv7+yQFDA0N4ev8/DzTX4Fbg2qEgCvb29vJXltbYz14EAdWV1fJxo1ISUkhW4DIArScq6qqCjeaiU9gkJ+aOTk5Yf14hoeH4Wj8FTPNcaGhoRodnZiYqJobB47khvlICkD5hX1ubW0x/RWor//mcXd3T0hIILu/v5/1UIKIbGhoiHhHMj4+HjmWbAEiC9ByLgze2dnJxLeh0IGQwLR46ECoUj0KxHXkIrIF4NxQ7SoUClQzrEkXRJ7zxMSEo6Mj2ZeXlzhp9aWr0H4BInMh4atnINXpEggdOAlNVFRUsH48lAzxzkhSMsQzIgl+c3R5eTkSOjLh9va2t7f35/iIX77l5eXU1FS8HWwSWUvTlRdBZPMoNsLDw8nOzMysrq4mW4WuCxCZC4M7OTnhzM7Pz/Py8gRBEsMi1Ghib2+P9VOjpaUFJR3VEV+Ud0iDKK1sbW1x1DMzM1ZWVrm5ueqD4i1YWFhQEXN8fIyeiDbaR2pCZPNjY2NeXl4oe7Kzs3t6elirGrouQGSuq6sr3CRra+uYmJjd3V3W+j2QD/DDguiMq3B9fc1alfzmaJn/DtnREiE7WiJkR0uE7GiJkB0tEbKjJYHjfgGdi0q4b/DXJwAAAABJRU5ErkJggg==)\n",
        "\n",
        "    It occurs to you that all you have to do is write a function that your brother can call, which takes as arguments the values of *a*, *b*, and *c*, and returns the solutions. \n",
        "\n",
        "    Write this function. \n",
        "\n",
        "    **Hint**: A function can return more than one value. Separate what it returns, using commas `,`."
      ]
    }
  ]
}