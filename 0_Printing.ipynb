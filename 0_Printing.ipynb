{
  "nbformat": 4,
  "nbformat_minor": 0,
  "metadata": {
    "colab": {
      "name": "0 - Printing.ipynb",
      "provenance": [],
      "collapsed_sections": [],
      "include_colab_link": true
    },
    "kernelspec": {
      "name": "python3",
      "display_name": "Python 3"
    },
    "language_info": {
      "name": "python"
    }
  },
  "cells": [
    {
      "cell_type": "markdown",
      "metadata": {
        "id": "view-in-github",
        "colab_type": "text"
      },
      "source": [
        "<a href=\"https://colab.research.google.com/github/XXII-SE/Equitech-Futures/blob/main/0_Printing.ipynb\" target=\"_parent\"><img src=\"https://colab.research.google.com/assets/colab-badge.svg\" alt=\"Open In Colab\"/></a>"
      ]
    },
    {
      "cell_type": "markdown",
      "metadata": {
        "id": "UDimPhjgIAJJ"
      },
      "source": [
        "# Welcome!\n",
        "\n",
        "### Hello to everybody! We'll be introducing you to Python through a series of Google Colab notebooks, in which we show you the ropes and leave you with some exercises for you to test your understanding.\n"
      ]
    },
    {
      "cell_type": "markdown",
      "metadata": {
        "id": "z_8FiYvS8s5O"
      },
      "source": [
        "A colab notebook is essentially just interlaced blocks of code and text, where the text is used to explain what's happening in the code!\n",
        "\n",
        "So let's get started!"
      ]
    },
    {
      "cell_type": "markdown",
      "metadata": {
        "id": "IdhdFyA0JBXt"
      },
      "source": [
        "In this notebook, we'll be looking at printing in Python. Rather than explaining what printing is, let's just look at how it works:\n"
      ]
    },
    {
      "cell_type": "code",
      "metadata": {
        "id": "aZhgmiqwH9Fg"
      },
      "source": [
        "print(\"Hello World! I'm totally stoked to learn Python!\")"
      ],
      "execution_count": null,
      "outputs": []
    },
    {
      "cell_type": "markdown",
      "metadata": {
        "id": "kPdFwKdHe1Hs"
      },
      "source": [
        "So that seems straight forward enough, but a lot has already happened in that one line.\n",
        "\n",
        "Let's try to break it down.\n",
        "* In Python, `print()` is a function whose job is to simply display whatever data is _passed_ to it. This data is enclosed between the parantheses. \n",
        "* Also, Python requires that we represent a piece of text by enclosing it with quotations `\"\"`. Without the quotes, python will think of the text as _code_.\n",
        "\n",
        "Together, this line of code resulted in this text being spit out exactly as you fed it, minus the quotes.  To summarize, what we did here was _call_ or _invoke_ the `print` function with some text that we wanted to display."
      ]
    },
    {
      "cell_type": "markdown",
      "metadata": {
        "id": "mK7FjnFtNsPv"
      },
      "source": [
        "That all sounds great, but how could that possibly be useful?\n",
        "\n",
        "As we cover more topics, hopefully the answer to that will become clear, but for the time being, just hold onto that thought. For now, let's go over a few technical details.\n",
        "\n",
        "Copy the above code and capitalize any or all letters in `print` and run the cell to see what happens!"
      ]
    },
    {
      "cell_type": "code",
      "source": [
        "# Try here!\n"
      ],
      "metadata": {
        "id": "tNuf8cBItZ_E"
      },
      "execution_count": null,
      "outputs": []
    },
    {
      "cell_type": "markdown",
      "metadata": {
        "id": "oD9qrjOxh7li"
      },
      "source": [
        "Whoops! Something bad happened. Looks like python doesn't really like \"print\" being written in different cases. That's because Python is **case sensitive**, which means `print`, `PRINT`, and `Print` are all different. \n",
        "\n",
        "Instead, python is returning an **error** which smartly includes information about what's going wrong. Here it would say `\"NameError: name 'Print' is not defined\"` which simply means that python just doesn't know what `Print` is and hence doesn't know what to do with it.\n",
        "\n",
        "Let's play with this line a bit more... This time remove the quotes, or a parenthesis, or both!"
      ]
    },
    {
      "cell_type": "code",
      "source": [
        "# Try here!\n"
      ],
      "metadata": {
        "id": "JeqCAcuDtXwc"
      },
      "execution_count": null,
      "outputs": []
    },
    {
      "cell_type": "markdown",
      "metadata": {
        "id": "TuYMbEXAiedJ"
      },
      "source": [
        "Error again! But this time it's different - `SyntaxError`\n",
        "\n",
        "Just like any natural language, Python has a syntax and grammar too (but much stricter)!. You always need to abide by it to succesfully run your program.\n",
        "\n",
        "In this case, you **must** have the parantheses! And a **left paranthesis must always be accompanied by a right parathesis**. There can be no brackets hanging out on their own! Similarly an **opening quote should always be closed by another quote**.\n",
        "\n",
        "Let's try to add spaces between the paranthesis and quotes of the `print` function and see how Python behaves."
      ]
    },
    {
      "cell_type": "code",
      "metadata": {
        "id": "3eO6xGd1SnFL"
      },
      "source": [
        "# Try here!\n"
      ],
      "execution_count": null,
      "outputs": []
    },
    {
      "cell_type": "markdown",
      "metadata": {
        "id": "GvxtgOVoSzY4"
      },
      "source": [
        "Notice that Python ignores spaces outside the quotations, but registers the spaces within the quotations! Also, each print command started printing on a new line.\n",
        "\n",
        "Now try to stack two print commands right next to each other and see what happens!"
      ]
    },
    {
      "cell_type": "code",
      "source": [
        "# Try here!\n"
      ],
      "metadata": {
        "id": "Xn7FXYzdvCca"
      },
      "execution_count": null,
      "outputs": []
    },
    {
      "cell_type": "markdown",
      "source": [
        "`SyntaxError` again!\n",
        "\n",
        "This is because Python language dictates that only one _statement_ can be written on a single line. Enter a new line between them and try again!"
      ],
      "metadata": {
        "id": "245ZZUG8vLWs"
      }
    },
    {
      "cell_type": "markdown",
      "metadata": {
        "id": "hNdEBM-i-z-j"
      },
      "source": [
        "So there you have it! You've learned your first command in Python, which allows you to print any message you want! There are all sorts of other things you can do with print like, for example, printing multiple things on the same line. If you're curious about what else you can do with the print command, check out https://www.w3schools.com/python/ref_func_print.asp"
      ]
    },
    {
      "cell_type": "markdown",
      "metadata": {
        "id": "YWSV-ux6AFQq"
      },
      "source": [
        "# Checkpoint!"
      ]
    },
    {
      "cell_type": "markdown",
      "metadata": {
        "id": "eEB4Pbv5-ZqI"
      },
      "source": [
        "Let's see if you can apply what you learned.\n",
        "\n",
        "Try printing something on your own, like say your name, where the output should look like (in my case):\n",
        "\n",
        "    My name is Bhasi."
      ]
    },
    {
      "cell_type": "code",
      "metadata": {
        "id": "m8LDOr6w-qNR"
      },
      "source": [
        "# Write your code here\n",
        "\n"
      ],
      "execution_count": null,
      "outputs": []
    }
  ]
}